{
  "cells": [
    {
      "cell_type": "code",
      "execution_count": null,
      "metadata": {
        "colab": {
          "base_uri": "https://localhost:8080/"
        },
        "id": "WSg8_xSAzOs2",
        "outputId": "30d4696a-e314-4919-cda9-51bdc20c7072"
      },
      "outputs": [
        {
          "output_type": "stream",
          "name": "stdout",
          "text": [
            "Mounted at /content/drive/\n"
          ]
        }
      ],
      "source": [
        "#Including the required Libraries\n",
        "import numpy as np\n",
        "import pandas as pd\n",
        "import seaborn as sns\n",
        "import matplotlib.pyplot as plt\n",
        "import cufflinks as cf\n",
        "from plotly.offline import download_plotlyjs, init_notebook_mode, plot, iplot\n",
        "from sklearn.linear_model import LinearRegression\n",
        "from sklearn.metrics import r2_score,mean_squared_error\n",
        "from google.colab import drive\n",
        "drive.mount('/content/drive/')\n",
        "import warnings\n",
        "warnings.filterwarnings('ignore')"
      ]
    },
    {
      "cell_type": "code",
      "execution_count": null,
      "metadata": {
        "colab": {
          "base_uri": "https://localhost:8080/",
          "height": 398
        },
        "id": "wbwoOP6KzOs5",
        "outputId": "fb84843b-5765-4cd5-c857-ffa0b1cba28b"
      },
      "outputs": [
        {
          "output_type": "error",
          "ename": "FileNotFoundError",
          "evalue": "ignored",
          "traceback": [
            "\u001b[0;31m---------------------------------------------------------------------------\u001b[0m",
            "\u001b[0;31mFileNotFoundError\u001b[0m                         Traceback (most recent call last)",
            "\u001b[0;32m<ipython-input-9-913caf7762a3>\u001b[0m in \u001b[0;36m<module>\u001b[0;34m()\u001b[0m\n\u001b[1;32m      1\u001b[0m \u001b[0;31m#importing the csv file\u001b[0m\u001b[0;34m\u001b[0m\u001b[0;34m\u001b[0m\u001b[0;34m\u001b[0m\u001b[0m\n\u001b[0;32m----> 2\u001b[0;31m \u001b[0mair\u001b[0m \u001b[0;34m=\u001b[0m \u001b[0mpd\u001b[0m\u001b[0;34m.\u001b[0m\u001b[0mread_csv\u001b[0m\u001b[0;34m(\u001b[0m\u001b[0;34m\"milan.csv\"\u001b[0m\u001b[0;34m)\u001b[0m\u001b[0;34m\u001b[0m\u001b[0;34m\u001b[0m\u001b[0m\n\u001b[0m",
            "\u001b[0;32m/usr/local/lib/python3.7/dist-packages/pandas/io/parsers.py\u001b[0m in \u001b[0;36mread_csv\u001b[0;34m(filepath_or_buffer, sep, delimiter, header, names, index_col, usecols, squeeze, prefix, mangle_dupe_cols, dtype, engine, converters, true_values, false_values, skipinitialspace, skiprows, skipfooter, nrows, na_values, keep_default_na, na_filter, verbose, skip_blank_lines, parse_dates, infer_datetime_format, keep_date_col, date_parser, dayfirst, cache_dates, iterator, chunksize, compression, thousands, decimal, lineterminator, quotechar, quoting, doublequote, escapechar, comment, encoding, dialect, error_bad_lines, warn_bad_lines, delim_whitespace, low_memory, memory_map, float_precision)\u001b[0m\n\u001b[1;32m    686\u001b[0m     )\n\u001b[1;32m    687\u001b[0m \u001b[0;34m\u001b[0m\u001b[0m\n\u001b[0;32m--> 688\u001b[0;31m     \u001b[0;32mreturn\u001b[0m \u001b[0m_read\u001b[0m\u001b[0;34m(\u001b[0m\u001b[0mfilepath_or_buffer\u001b[0m\u001b[0;34m,\u001b[0m \u001b[0mkwds\u001b[0m\u001b[0;34m)\u001b[0m\u001b[0;34m\u001b[0m\u001b[0;34m\u001b[0m\u001b[0m\n\u001b[0m\u001b[1;32m    689\u001b[0m \u001b[0;34m\u001b[0m\u001b[0m\n\u001b[1;32m    690\u001b[0m \u001b[0;34m\u001b[0m\u001b[0m\n",
            "\u001b[0;32m/usr/local/lib/python3.7/dist-packages/pandas/io/parsers.py\u001b[0m in \u001b[0;36m_read\u001b[0;34m(filepath_or_buffer, kwds)\u001b[0m\n\u001b[1;32m    452\u001b[0m \u001b[0;34m\u001b[0m\u001b[0m\n\u001b[1;32m    453\u001b[0m     \u001b[0;31m# Create the parser.\u001b[0m\u001b[0;34m\u001b[0m\u001b[0;34m\u001b[0m\u001b[0;34m\u001b[0m\u001b[0m\n\u001b[0;32m--> 454\u001b[0;31m     \u001b[0mparser\u001b[0m \u001b[0;34m=\u001b[0m \u001b[0mTextFileReader\u001b[0m\u001b[0;34m(\u001b[0m\u001b[0mfp_or_buf\u001b[0m\u001b[0;34m,\u001b[0m \u001b[0;34m**\u001b[0m\u001b[0mkwds\u001b[0m\u001b[0;34m)\u001b[0m\u001b[0;34m\u001b[0m\u001b[0;34m\u001b[0m\u001b[0m\n\u001b[0m\u001b[1;32m    455\u001b[0m \u001b[0;34m\u001b[0m\u001b[0m\n\u001b[1;32m    456\u001b[0m     \u001b[0;32mif\u001b[0m \u001b[0mchunksize\u001b[0m \u001b[0;32mor\u001b[0m \u001b[0miterator\u001b[0m\u001b[0;34m:\u001b[0m\u001b[0;34m\u001b[0m\u001b[0;34m\u001b[0m\u001b[0m\n",
            "\u001b[0;32m/usr/local/lib/python3.7/dist-packages/pandas/io/parsers.py\u001b[0m in \u001b[0;36m__init__\u001b[0;34m(self, f, engine, **kwds)\u001b[0m\n\u001b[1;32m    946\u001b[0m             \u001b[0mself\u001b[0m\u001b[0;34m.\u001b[0m\u001b[0moptions\u001b[0m\u001b[0;34m[\u001b[0m\u001b[0;34m\"has_index_names\"\u001b[0m\u001b[0;34m]\u001b[0m \u001b[0;34m=\u001b[0m \u001b[0mkwds\u001b[0m\u001b[0;34m[\u001b[0m\u001b[0;34m\"has_index_names\"\u001b[0m\u001b[0;34m]\u001b[0m\u001b[0;34m\u001b[0m\u001b[0;34m\u001b[0m\u001b[0m\n\u001b[1;32m    947\u001b[0m \u001b[0;34m\u001b[0m\u001b[0m\n\u001b[0;32m--> 948\u001b[0;31m         \u001b[0mself\u001b[0m\u001b[0;34m.\u001b[0m\u001b[0m_make_engine\u001b[0m\u001b[0;34m(\u001b[0m\u001b[0mself\u001b[0m\u001b[0;34m.\u001b[0m\u001b[0mengine\u001b[0m\u001b[0;34m)\u001b[0m\u001b[0;34m\u001b[0m\u001b[0;34m\u001b[0m\u001b[0m\n\u001b[0m\u001b[1;32m    949\u001b[0m \u001b[0;34m\u001b[0m\u001b[0m\n\u001b[1;32m    950\u001b[0m     \u001b[0;32mdef\u001b[0m \u001b[0mclose\u001b[0m\u001b[0;34m(\u001b[0m\u001b[0mself\u001b[0m\u001b[0;34m)\u001b[0m\u001b[0;34m:\u001b[0m\u001b[0;34m\u001b[0m\u001b[0;34m\u001b[0m\u001b[0m\n",
            "\u001b[0;32m/usr/local/lib/python3.7/dist-packages/pandas/io/parsers.py\u001b[0m in \u001b[0;36m_make_engine\u001b[0;34m(self, engine)\u001b[0m\n\u001b[1;32m   1178\u001b[0m     \u001b[0;32mdef\u001b[0m \u001b[0m_make_engine\u001b[0m\u001b[0;34m(\u001b[0m\u001b[0mself\u001b[0m\u001b[0;34m,\u001b[0m \u001b[0mengine\u001b[0m\u001b[0;34m=\u001b[0m\u001b[0;34m\"c\"\u001b[0m\u001b[0;34m)\u001b[0m\u001b[0;34m:\u001b[0m\u001b[0;34m\u001b[0m\u001b[0;34m\u001b[0m\u001b[0m\n\u001b[1;32m   1179\u001b[0m         \u001b[0;32mif\u001b[0m \u001b[0mengine\u001b[0m \u001b[0;34m==\u001b[0m \u001b[0;34m\"c\"\u001b[0m\u001b[0;34m:\u001b[0m\u001b[0;34m\u001b[0m\u001b[0;34m\u001b[0m\u001b[0m\n\u001b[0;32m-> 1180\u001b[0;31m             \u001b[0mself\u001b[0m\u001b[0;34m.\u001b[0m\u001b[0m_engine\u001b[0m \u001b[0;34m=\u001b[0m \u001b[0mCParserWrapper\u001b[0m\u001b[0;34m(\u001b[0m\u001b[0mself\u001b[0m\u001b[0;34m.\u001b[0m\u001b[0mf\u001b[0m\u001b[0;34m,\u001b[0m \u001b[0;34m**\u001b[0m\u001b[0mself\u001b[0m\u001b[0;34m.\u001b[0m\u001b[0moptions\u001b[0m\u001b[0;34m)\u001b[0m\u001b[0;34m\u001b[0m\u001b[0;34m\u001b[0m\u001b[0m\n\u001b[0m\u001b[1;32m   1181\u001b[0m         \u001b[0;32melse\u001b[0m\u001b[0;34m:\u001b[0m\u001b[0;34m\u001b[0m\u001b[0;34m\u001b[0m\u001b[0m\n\u001b[1;32m   1182\u001b[0m             \u001b[0;32mif\u001b[0m \u001b[0mengine\u001b[0m \u001b[0;34m==\u001b[0m \u001b[0;34m\"python\"\u001b[0m\u001b[0;34m:\u001b[0m\u001b[0;34m\u001b[0m\u001b[0;34m\u001b[0m\u001b[0m\n",
            "\u001b[0;32m/usr/local/lib/python3.7/dist-packages/pandas/io/parsers.py\u001b[0m in \u001b[0;36m__init__\u001b[0;34m(self, src, **kwds)\u001b[0m\n\u001b[1;32m   2008\u001b[0m         \u001b[0mkwds\u001b[0m\u001b[0;34m[\u001b[0m\u001b[0;34m\"usecols\"\u001b[0m\u001b[0;34m]\u001b[0m \u001b[0;34m=\u001b[0m \u001b[0mself\u001b[0m\u001b[0;34m.\u001b[0m\u001b[0musecols\u001b[0m\u001b[0;34m\u001b[0m\u001b[0;34m\u001b[0m\u001b[0m\n\u001b[1;32m   2009\u001b[0m \u001b[0;34m\u001b[0m\u001b[0m\n\u001b[0;32m-> 2010\u001b[0;31m         \u001b[0mself\u001b[0m\u001b[0;34m.\u001b[0m\u001b[0m_reader\u001b[0m \u001b[0;34m=\u001b[0m \u001b[0mparsers\u001b[0m\u001b[0;34m.\u001b[0m\u001b[0mTextReader\u001b[0m\u001b[0;34m(\u001b[0m\u001b[0msrc\u001b[0m\u001b[0;34m,\u001b[0m \u001b[0;34m**\u001b[0m\u001b[0mkwds\u001b[0m\u001b[0;34m)\u001b[0m\u001b[0;34m\u001b[0m\u001b[0;34m\u001b[0m\u001b[0m\n\u001b[0m\u001b[1;32m   2011\u001b[0m         \u001b[0mself\u001b[0m\u001b[0;34m.\u001b[0m\u001b[0munnamed_cols\u001b[0m \u001b[0;34m=\u001b[0m \u001b[0mself\u001b[0m\u001b[0;34m.\u001b[0m\u001b[0m_reader\u001b[0m\u001b[0;34m.\u001b[0m\u001b[0munnamed_cols\u001b[0m\u001b[0;34m\u001b[0m\u001b[0;34m\u001b[0m\u001b[0m\n\u001b[1;32m   2012\u001b[0m \u001b[0;34m\u001b[0m\u001b[0m\n",
            "\u001b[0;32mpandas/_libs/parsers.pyx\u001b[0m in \u001b[0;36mpandas._libs.parsers.TextReader.__cinit__\u001b[0;34m()\u001b[0m\n",
            "\u001b[0;32mpandas/_libs/parsers.pyx\u001b[0m in \u001b[0;36mpandas._libs.parsers.TextReader._setup_parser_source\u001b[0;34m()\u001b[0m\n",
            "\u001b[0;31mFileNotFoundError\u001b[0m: [Errno 2] No such file or directory: 'milan.csv'"
          ]
        }
      ],
      "source": [
        "#importing the csv file\n",
        "air = pd.read_csv(\"milan.csv\")"
      ]
    },
    {
      "cell_type": "code",
      "execution_count": null,
      "metadata": {
        "id": "JX4JuE28zOs6",
        "outputId": "cdbc47a8-51d4-4f1f-807d-55d7984e1ba9"
      },
      "outputs": [
        {
          "data": {
            "text/html": [
              "<div>\n",
              "<style scoped>\n",
              "    .dataframe tbody tr th:only-of-type {\n",
              "        vertical-align: middle;\n",
              "    }\n",
              "\n",
              "    .dataframe tbody tr th {\n",
              "        vertical-align: top;\n",
              "    }\n",
              "\n",
              "    .dataframe thead th {\n",
              "        text-align: right;\n",
              "    }\n",
              "</style>\n",
              "<table border=\"1\" class=\"dataframe\">\n",
              "  <thead>\n",
              "    <tr style=\"text-align: right;\">\n",
              "      <th></th>\n",
              "      <th>name</th>\n",
              "      <th>host_since</th>\n",
              "      <th>host_response_time</th>\n",
              "      <th>host_response_rate</th>\n",
              "      <th>host_acceptance_rate</th>\n",
              "      <th>host_is_superhost</th>\n",
              "      <th>host_listings_count</th>\n",
              "      <th>host_total_listings_count</th>\n",
              "      <th>host_has_profile_pic</th>\n",
              "      <th>host_identity_verified</th>\n",
              "      <th>...</th>\n",
              "      <th>review_scores_cleanliness</th>\n",
              "      <th>review_scores_checkin</th>\n",
              "      <th>review_scores_communication</th>\n",
              "      <th>review_scores_location</th>\n",
              "      <th>review_scores_value</th>\n",
              "      <th>instant_bookable</th>\n",
              "      <th>calculated_host_listings_count</th>\n",
              "      <th>reviews_per_month</th>\n",
              "      <th>days_as_host</th>\n",
              "      <th>city</th>\n",
              "    </tr>\n",
              "  </thead>\n",
              "  <tbody>\n",
              "    <tr>\n",
              "      <th>0</th>\n",
              "      <td>DA BICE</td>\n",
              "      <td>2015-10-12</td>\n",
              "      <td>within an hour</td>\n",
              "      <td>100.0</td>\n",
              "      <td>NaN</td>\n",
              "      <td>f</td>\n",
              "      <td>1</td>\n",
              "      <td>1</td>\n",
              "      <td>t</td>\n",
              "      <td>t</td>\n",
              "      <td>...</td>\n",
              "      <td>NaN</td>\n",
              "      <td>NaN</td>\n",
              "      <td>NaN</td>\n",
              "      <td>NaN</td>\n",
              "      <td>NaN</td>\n",
              "      <td>t</td>\n",
              "      <td>2</td>\n",
              "      <td>NaN</td>\n",
              "      <td>2237</td>\n",
              "      <td>Milan</td>\n",
              "    </tr>\n",
              "    <tr>\n",
              "      <th>1</th>\n",
              "      <td>LCDA Apartment 5 -CADORNA</td>\n",
              "      <td>2020-01-14</td>\n",
              "      <td>within an hour</td>\n",
              "      <td>100.0</td>\n",
              "      <td>100.0</td>\n",
              "      <td>f</td>\n",
              "      <td>3</td>\n",
              "      <td>3</td>\n",
              "      <td>t</td>\n",
              "      <td>t</td>\n",
              "      <td>...</td>\n",
              "      <td>NaN</td>\n",
              "      <td>NaN</td>\n",
              "      <td>NaN</td>\n",
              "      <td>NaN</td>\n",
              "      <td>NaN</td>\n",
              "      <td>t</td>\n",
              "      <td>12</td>\n",
              "      <td>NaN</td>\n",
              "      <td>682</td>\n",
              "      <td>Milan</td>\n",
              "    </tr>\n",
              "    <tr>\n",
              "      <th>2</th>\n",
              "      <td>Navigli LOFT, with private garden</td>\n",
              "      <td>2012-01-11</td>\n",
              "      <td>within a few hours</td>\n",
              "      <td>100.0</td>\n",
              "      <td>0.0</td>\n",
              "      <td>f</td>\n",
              "      <td>1</td>\n",
              "      <td>1</td>\n",
              "      <td>t</td>\n",
              "      <td>t</td>\n",
              "      <td>...</td>\n",
              "      <td>4.98</td>\n",
              "      <td>4.96</td>\n",
              "      <td>4.94</td>\n",
              "      <td>4.43</td>\n",
              "      <td>4.63</td>\n",
              "      <td>f</td>\n",
              "      <td>1</td>\n",
              "      <td>0.48</td>\n",
              "      <td>3607</td>\n",
              "      <td>Milan</td>\n",
              "    </tr>\n",
              "    <tr>\n",
              "      <th>3</th>\n",
              "      <td>Prati 12</td>\n",
              "      <td>2018-11-09</td>\n",
              "      <td>NaN</td>\n",
              "      <td>NaN</td>\n",
              "      <td>NaN</td>\n",
              "      <td>t</td>\n",
              "      <td>1</td>\n",
              "      <td>1</td>\n",
              "      <td>t</td>\n",
              "      <td>t</td>\n",
              "      <td>...</td>\n",
              "      <td>4.89</td>\n",
              "      <td>4.82</td>\n",
              "      <td>4.95</td>\n",
              "      <td>4.89</td>\n",
              "      <td>4.82</td>\n",
              "      <td>t</td>\n",
              "      <td>1</td>\n",
              "      <td>1.60</td>\n",
              "      <td>1113</td>\n",
              "      <td>Milan</td>\n",
              "    </tr>\n",
              "    <tr>\n",
              "      <th>4</th>\n",
              "      <td>OPEN SPACE IN THE HEART OF MILAN</td>\n",
              "      <td>2013-03-19</td>\n",
              "      <td>NaN</td>\n",
              "      <td>NaN</td>\n",
              "      <td>NaN</td>\n",
              "      <td>f</td>\n",
              "      <td>1</td>\n",
              "      <td>1</td>\n",
              "      <td>t</td>\n",
              "      <td>t</td>\n",
              "      <td>...</td>\n",
              "      <td>5.00</td>\n",
              "      <td>5.00</td>\n",
              "      <td>5.00</td>\n",
              "      <td>5.00</td>\n",
              "      <td>5.00</td>\n",
              "      <td>f</td>\n",
              "      <td>1</td>\n",
              "      <td>0.05</td>\n",
              "      <td>3174</td>\n",
              "      <td>Milan</td>\n",
              "    </tr>\n",
              "  </tbody>\n",
              "</table>\n",
              "<p>5 rows × 33 columns</p>\n",
              "</div>"
            ],
            "text/plain": [
              "                                name  host_since  host_response_time  \\\n",
              "0                            DA BICE  2015-10-12      within an hour   \n",
              "1          LCDA Apartment 5 -CADORNA  2020-01-14      within an hour   \n",
              "2  Navigli LOFT, with private garden  2012-01-11  within a few hours   \n",
              "3                           Prati 12  2018-11-09                 NaN   \n",
              "4   OPEN SPACE IN THE HEART OF MILAN  2013-03-19                 NaN   \n",
              "\n",
              "   host_response_rate  host_acceptance_rate host_is_superhost  \\\n",
              "0               100.0                   NaN                 f   \n",
              "1               100.0                 100.0                 f   \n",
              "2               100.0                   0.0                 f   \n",
              "3                 NaN                   NaN                 t   \n",
              "4                 NaN                   NaN                 f   \n",
              "\n",
              "   host_listings_count  host_total_listings_count host_has_profile_pic  \\\n",
              "0                    1                          1                    t   \n",
              "1                    3                          3                    t   \n",
              "2                    1                          1                    t   \n",
              "3                    1                          1                    t   \n",
              "4                    1                          1                    t   \n",
              "\n",
              "  host_identity_verified  ... review_scores_cleanliness  \\\n",
              "0                      t  ...                       NaN   \n",
              "1                      t  ...                       NaN   \n",
              "2                      t  ...                      4.98   \n",
              "3                      t  ...                      4.89   \n",
              "4                      t  ...                      5.00   \n",
              "\n",
              "   review_scores_checkin  review_scores_communication  review_scores_location  \\\n",
              "0                    NaN                          NaN                     NaN   \n",
              "1                    NaN                          NaN                     NaN   \n",
              "2                   4.96                         4.94                    4.43   \n",
              "3                   4.82                         4.95                    4.89   \n",
              "4                   5.00                         5.00                    5.00   \n",
              "\n",
              "   review_scores_value  instant_bookable  calculated_host_listings_count  \\\n",
              "0                  NaN                 t                               2   \n",
              "1                  NaN                 t                              12   \n",
              "2                 4.63                 f                               1   \n",
              "3                 4.82                 t                               1   \n",
              "4                 5.00                 f                               1   \n",
              "\n",
              "   reviews_per_month  days_as_host   city  \n",
              "0                NaN          2237  Milan  \n",
              "1                NaN           682  Milan  \n",
              "2               0.48          3607  Milan  \n",
              "3               1.60          1113  Milan  \n",
              "4               0.05          3174  Milan  \n",
              "\n",
              "[5 rows x 33 columns]"
            ]
          },
          "execution_count": 3,
          "metadata": {},
          "output_type": "execute_result"
        }
      ],
      "source": [
        "# viewing the dataset\n",
        "air.head()"
      ]
    },
    {
      "cell_type": "code",
      "execution_count": null,
      "metadata": {
        "id": "Ydt98us0zOs7",
        "outputId": "a4ea0ea0-4dec-4318-a3f4-f9c5416044d0"
      },
      "outputs": [
        {
          "name": "stdout",
          "output_type": "stream",
          "text": [
            "<class 'pandas.core.frame.DataFrame'>\n",
            "RangeIndex: 3000 entries, 0 to 2999\n",
            "Data columns (total 33 columns):\n",
            " #   Column                          Non-Null Count  Dtype  \n",
            "---  ------                          --------------  -----  \n",
            " 0   name                            2998 non-null   object \n",
            " 1   host_since                      3000 non-null   object \n",
            " 2   host_response_time              1825 non-null   object \n",
            " 3   host_response_rate              1825 non-null   float64\n",
            " 4   host_acceptance_rate            1770 non-null   float64\n",
            " 5   host_is_superhost               3000 non-null   object \n",
            " 6   host_listings_count             3000 non-null   int64  \n",
            " 7   host_total_listings_count       3000 non-null   int64  \n",
            " 8   host_has_profile_pic            3000 non-null   object \n",
            " 9   host_identity_verified          3000 non-null   object \n",
            " 10  room_type                       3000 non-null   object \n",
            " 11  accommodates                    3000 non-null   int64  \n",
            " 12  bedrooms                        2762 non-null   float64\n",
            " 13  beds                            2975 non-null   float64\n",
            " 14  price                           2981 non-null   float64\n",
            " 15  minimum_nights                  3000 non-null   int64  \n",
            " 16  maximum_nights                  3000 non-null   int64  \n",
            " 17  availability_365                3000 non-null   int64  \n",
            " 18  number_of_reviews               3000 non-null   int64  \n",
            " 19  number_of_reviews_ltm           3000 non-null   int64  \n",
            " 20  number_of_reviews_l30d          3000 non-null   int64  \n",
            " 21  review_scores_rating            2277 non-null   float64\n",
            " 22  review_scores_accuracy          2235 non-null   float64\n",
            " 23  review_scores_cleanliness       2236 non-null   float64\n",
            " 24  review_scores_checkin           2235 non-null   float64\n",
            " 25  review_scores_communication     2235 non-null   float64\n",
            " 26  review_scores_location          2235 non-null   float64\n",
            " 27  review_scores_value             2235 non-null   float64\n",
            " 28  instant_bookable                3000 non-null   object \n",
            " 29  calculated_host_listings_count  3000 non-null   int64  \n",
            " 30  reviews_per_month               2277 non-null   float64\n",
            " 31  days_as_host                    3000 non-null   int64  \n",
            " 32  city                            3000 non-null   object \n",
            "dtypes: float64(13), int64(11), object(9)\n",
            "memory usage: 773.6+ KB\n"
          ]
        }
      ],
      "source": [
        "air.info()"
      ]
    },
    {
      "cell_type": "markdown",
      "metadata": {
        "id": "Kj3hNNknzOs8"
      },
      "source": [
        "##### Now removing the irrelevant columns\n",
        "##### The columns chosen in a basis of the objective of the problem\n",
        "##### The independent and the dependent columns are chosen based on the domain knowledge and the good understanding of the problem"
      ]
    },
    {
      "cell_type": "code",
      "execution_count": null,
      "metadata": {
        "id": "NNnWUUjkzOs9",
        "outputId": "9d71581a-013d-4650-b967-4d152608982b"
      },
      "outputs": [
        {
          "data": {
            "text/plain": [
              "name                                 2\n",
              "host_since                           0\n",
              "host_response_time                1175\n",
              "host_response_rate                1175\n",
              "host_acceptance_rate              1230\n",
              "host_is_superhost                    0\n",
              "host_listings_count                  0\n",
              "host_total_listings_count            0\n",
              "host_has_profile_pic                 0\n",
              "host_identity_verified               0\n",
              "room_type                            0\n",
              "accommodates                         0\n",
              "bedrooms                           238\n",
              "beds                                25\n",
              "price                               19\n",
              "minimum_nights                       0\n",
              "maximum_nights                       0\n",
              "availability_365                     0\n",
              "number_of_reviews                    0\n",
              "number_of_reviews_ltm                0\n",
              "number_of_reviews_l30d               0\n",
              "review_scores_rating               723\n",
              "review_scores_accuracy             765\n",
              "review_scores_cleanliness          764\n",
              "review_scores_checkin              765\n",
              "review_scores_communication        765\n",
              "review_scores_location             765\n",
              "review_scores_value                765\n",
              "instant_bookable                     0\n",
              "calculated_host_listings_count       0\n",
              "reviews_per_month                  723\n",
              "days_as_host                         0\n",
              "city                                 0\n",
              "dtype: int64"
            ]
          },
          "execution_count": 5,
          "metadata": {},
          "output_type": "execute_result"
        }
      ],
      "source": [
        "#checking for null values\n",
        "air.isna().sum()"
      ]
    },
    {
      "cell_type": "code",
      "execution_count": null,
      "metadata": {
        "id": "-Nx7lUeZzOs-",
        "outputId": "71897773-3aa5-46a1-d6af-f5875a23b07f"
      },
      "outputs": [
        {
          "data": {
            "text/plain": [
              "(2998, 33)"
            ]
          },
          "execution_count": 6,
          "metadata": {},
          "output_type": "execute_result"
        }
      ],
      "source": [
        "air=air.dropna(subset=[\"name\"])\n",
        "# I'm choosing the column name because the name is the host and others columns are basically features of the host if the host is null its meaningless\n",
        "air.shape"
      ]
    },
    {
      "cell_type": "code",
      "execution_count": null,
      "metadata": {
        "id": "WLQeJjKVzOs_",
        "outputId": "29dba7f5-8f15-4288-976d-e3d415acbad5"
      },
      "outputs": [
        {
          "data": {
            "text/plain": [
              "(2998, 33)"
            ]
          },
          "execution_count": 7,
          "metadata": {},
          "output_type": "execute_result"
        }
      ],
      "source": [
        "#checking for duplicates\n",
        "air=air.drop_duplicates()\n",
        "air.shape"
      ]
    },
    {
      "cell_type": "code",
      "execution_count": null,
      "metadata": {
        "id": "2CuVVDi4zOtA"
      },
      "outputs": [],
      "source": [
        "air2 = air[[\"name\",\"host_since\",\"host_identity_verified\",\"room_type\",\"accommodates\",\"bedrooms\",\"beds\",\"price\",\"city\",\"review_scores_cleanliness\",\"availability_365\",\"days_as_host\",\"review_scores_value\"]]\n",
        "#These are the features which fluctuates the price of the room where the other features either deal with the Airbnb/Host features"
      ]
    },
    {
      "cell_type": "code",
      "execution_count": null,
      "metadata": {
        "id": "gsw8H8khzOtA",
        "outputId": "c9301550-48cc-4292-ccad-ca5d372bca4d"
      },
      "outputs": [
        {
          "data": {
            "text/html": [
              "<div>\n",
              "<style scoped>\n",
              "    .dataframe tbody tr th:only-of-type {\n",
              "        vertical-align: middle;\n",
              "    }\n",
              "\n",
              "    .dataframe tbody tr th {\n",
              "        vertical-align: top;\n",
              "    }\n",
              "\n",
              "    .dataframe thead th {\n",
              "        text-align: right;\n",
              "    }\n",
              "</style>\n",
              "<table border=\"1\" class=\"dataframe\">\n",
              "  <thead>\n",
              "    <tr style=\"text-align: right;\">\n",
              "      <th></th>\n",
              "      <th>name</th>\n",
              "      <th>host_since</th>\n",
              "      <th>host_identity_verified</th>\n",
              "      <th>room_type</th>\n",
              "      <th>accommodates</th>\n",
              "      <th>bedrooms</th>\n",
              "      <th>beds</th>\n",
              "      <th>price</th>\n",
              "      <th>city</th>\n",
              "      <th>review_scores_cleanliness</th>\n",
              "      <th>availability_365</th>\n",
              "      <th>days_as_host</th>\n",
              "      <th>review_scores_value</th>\n",
              "    </tr>\n",
              "  </thead>\n",
              "  <tbody>\n",
              "    <tr>\n",
              "      <th>0</th>\n",
              "      <td>DA BICE</td>\n",
              "      <td>2015-10-12</td>\n",
              "      <td>t</td>\n",
              "      <td>Entire home/apt</td>\n",
              "      <td>3</td>\n",
              "      <td>1.0</td>\n",
              "      <td>2.0</td>\n",
              "      <td>45.0</td>\n",
              "      <td>Milan</td>\n",
              "      <td>NaN</td>\n",
              "      <td>111</td>\n",
              "      <td>2237</td>\n",
              "      <td>NaN</td>\n",
              "    </tr>\n",
              "    <tr>\n",
              "      <th>1</th>\n",
              "      <td>LCDA Apartment 5 -CADORNA</td>\n",
              "      <td>2020-01-14</td>\n",
              "      <td>t</td>\n",
              "      <td>Entire home/apt</td>\n",
              "      <td>4</td>\n",
              "      <td>1.0</td>\n",
              "      <td>2.0</td>\n",
              "      <td>130.0</td>\n",
              "      <td>Milan</td>\n",
              "      <td>NaN</td>\n",
              "      <td>365</td>\n",
              "      <td>682</td>\n",
              "      <td>NaN</td>\n",
              "    </tr>\n",
              "    <tr>\n",
              "      <th>2</th>\n",
              "      <td>Navigli LOFT, with private garden</td>\n",
              "      <td>2012-01-11</td>\n",
              "      <td>t</td>\n",
              "      <td>Entire home/apt</td>\n",
              "      <td>5</td>\n",
              "      <td>2.0</td>\n",
              "      <td>3.0</td>\n",
              "      <td>100.0</td>\n",
              "      <td>Milan</td>\n",
              "      <td>4.98</td>\n",
              "      <td>291</td>\n",
              "      <td>3607</td>\n",
              "      <td>4.63</td>\n",
              "    </tr>\n",
              "    <tr>\n",
              "      <th>3</th>\n",
              "      <td>Prati 12</td>\n",
              "      <td>2018-11-09</td>\n",
              "      <td>t</td>\n",
              "      <td>Entire home/apt</td>\n",
              "      <td>2</td>\n",
              "      <td>NaN</td>\n",
              "      <td>1.0</td>\n",
              "      <td>65.0</td>\n",
              "      <td>Milan</td>\n",
              "      <td>4.89</td>\n",
              "      <td>48</td>\n",
              "      <td>1113</td>\n",
              "      <td>4.82</td>\n",
              "    </tr>\n",
              "    <tr>\n",
              "      <th>4</th>\n",
              "      <td>OPEN SPACE IN THE HEART OF MILAN</td>\n",
              "      <td>2013-03-19</td>\n",
              "      <td>t</td>\n",
              "      <td>Entire home/apt</td>\n",
              "      <td>5</td>\n",
              "      <td>2.0</td>\n",
              "      <td>3.0</td>\n",
              "      <td>300.0</td>\n",
              "      <td>Milan</td>\n",
              "      <td>5.00</td>\n",
              "      <td>0</td>\n",
              "      <td>3174</td>\n",
              "      <td>5.00</td>\n",
              "    </tr>\n",
              "  </tbody>\n",
              "</table>\n",
              "</div>"
            ],
            "text/plain": [
              "                                name  host_since host_identity_verified  \\\n",
              "0                            DA BICE  2015-10-12                      t   \n",
              "1          LCDA Apartment 5 -CADORNA  2020-01-14                      t   \n",
              "2  Navigli LOFT, with private garden  2012-01-11                      t   \n",
              "3                           Prati 12  2018-11-09                      t   \n",
              "4   OPEN SPACE IN THE HEART OF MILAN  2013-03-19                      t   \n",
              "\n",
              "         room_type  accommodates  bedrooms  beds  price   city  \\\n",
              "0  Entire home/apt             3       1.0   2.0   45.0  Milan   \n",
              "1  Entire home/apt             4       1.0   2.0  130.0  Milan   \n",
              "2  Entire home/apt             5       2.0   3.0  100.0  Milan   \n",
              "3  Entire home/apt             2       NaN   1.0   65.0  Milan   \n",
              "4  Entire home/apt             5       2.0   3.0  300.0  Milan   \n",
              "\n",
              "   review_scores_cleanliness  availability_365  days_as_host  \\\n",
              "0                        NaN               111          2237   \n",
              "1                        NaN               365           682   \n",
              "2                       4.98               291          3607   \n",
              "3                       4.89                48          1113   \n",
              "4                       5.00                 0          3174   \n",
              "\n",
              "   review_scores_value  \n",
              "0                  NaN  \n",
              "1                  NaN  \n",
              "2                 4.63  \n",
              "3                 4.82  \n",
              "4                 5.00  "
            ]
          },
          "execution_count": 9,
          "metadata": {},
          "output_type": "execute_result"
        }
      ],
      "source": [
        "air2.head()"
      ]
    },
    {
      "cell_type": "code",
      "execution_count": null,
      "metadata": {
        "id": "Ep5DcK6jzOtB",
        "outputId": "1c9e039b-b608-46a5-a2ca-cab80c4fc2fa"
      },
      "outputs": [
        {
          "name": "stdout",
          "output_type": "stream",
          "text": [
            "<class 'pandas.core.frame.DataFrame'>\n",
            "Int64Index: 2998 entries, 0 to 2999\n",
            "Data columns (total 13 columns):\n",
            " #   Column                     Non-Null Count  Dtype  \n",
            "---  ------                     --------------  -----  \n",
            " 0   name                       2998 non-null   object \n",
            " 1   host_since                 2998 non-null   object \n",
            " 2   host_identity_verified     2998 non-null   object \n",
            " 3   room_type                  2998 non-null   object \n",
            " 4   accommodates               2998 non-null   int64  \n",
            " 5   bedrooms                   2760 non-null   float64\n",
            " 6   beds                       2973 non-null   float64\n",
            " 7   price                      2979 non-null   float64\n",
            " 8   city                       2998 non-null   object \n",
            " 9   review_scores_cleanliness  2236 non-null   float64\n",
            " 10  availability_365           2998 non-null   int64  \n",
            " 11  days_as_host               2998 non-null   int64  \n",
            " 12  review_scores_value        2235 non-null   float64\n",
            "dtypes: float64(5), int64(3), object(5)\n",
            "memory usage: 327.9+ KB\n"
          ]
        }
      ],
      "source": [
        "air2.info()"
      ]
    },
    {
      "cell_type": "code",
      "execution_count": null,
      "metadata": {
        "id": "WLl4-xVFzOtB"
      },
      "outputs": [],
      "source": [
        "#renaming the columns\n",
        "air2=air2.rename(columns={\"bedrooms\":\"bathrooms\",\"review_scores_cleanliness\":\"Clean_score\"})"
      ]
    },
    {
      "cell_type": "code",
      "execution_count": null,
      "metadata": {
        "id": "2EIrPlTozOtC",
        "outputId": "da16b925-7d92-4fcd-bb68-c25506cc5dc8"
      },
      "outputs": [
        {
          "data": {
            "text/plain": [
              "name                        0\n",
              "host_since                  0\n",
              "host_identity_verified      0\n",
              "room_type                   0\n",
              "accommodates                0\n",
              "bathrooms                 238\n",
              "beds                       25\n",
              "price                      19\n",
              "city                        0\n",
              "Clean_score               762\n",
              "availability_365            0\n",
              "days_as_host                0\n",
              "review_scores_value       763\n",
              "dtype: int64"
            ]
          },
          "execution_count": 12,
          "metadata": {},
          "output_type": "execute_result"
        }
      ],
      "source": [
        "air2.isna().sum()"
      ]
    },
    {
      "cell_type": "code",
      "execution_count": null,
      "metadata": {
        "id": "gjva3Af9zOtC",
        "outputId": "27e870dd-852f-466b-c423-6c15e439d4c0"
      },
      "outputs": [
        {
          "data": {
            "text/html": [
              "<div>\n",
              "<style scoped>\n",
              "    .dataframe tbody tr th:only-of-type {\n",
              "        vertical-align: middle;\n",
              "    }\n",
              "\n",
              "    .dataframe tbody tr th {\n",
              "        vertical-align: top;\n",
              "    }\n",
              "\n",
              "    .dataframe thead th {\n",
              "        text-align: right;\n",
              "    }\n",
              "</style>\n",
              "<table border=\"1\" class=\"dataframe\">\n",
              "  <thead>\n",
              "    <tr style=\"text-align: right;\">\n",
              "      <th></th>\n",
              "      <th>count</th>\n",
              "      <th>mean</th>\n",
              "      <th>std</th>\n",
              "      <th>min</th>\n",
              "      <th>25%</th>\n",
              "      <th>50%</th>\n",
              "      <th>75%</th>\n",
              "      <th>max</th>\n",
              "    </tr>\n",
              "  </thead>\n",
              "  <tbody>\n",
              "    <tr>\n",
              "      <th>accommodates</th>\n",
              "      <td>2998.0</td>\n",
              "      <td>2.996998</td>\n",
              "      <td>1.489701</td>\n",
              "      <td>1.0</td>\n",
              "      <td>2.00</td>\n",
              "      <td>2.00</td>\n",
              "      <td>4.0</td>\n",
              "      <td>16.0</td>\n",
              "    </tr>\n",
              "    <tr>\n",
              "      <th>bathrooms</th>\n",
              "      <td>2760.0</td>\n",
              "      <td>1.243841</td>\n",
              "      <td>0.564407</td>\n",
              "      <td>1.0</td>\n",
              "      <td>1.00</td>\n",
              "      <td>1.00</td>\n",
              "      <td>1.0</td>\n",
              "      <td>7.0</td>\n",
              "    </tr>\n",
              "    <tr>\n",
              "      <th>beds</th>\n",
              "      <td>2973.0</td>\n",
              "      <td>1.738648</td>\n",
              "      <td>1.149043</td>\n",
              "      <td>0.0</td>\n",
              "      <td>1.00</td>\n",
              "      <td>1.00</td>\n",
              "      <td>2.0</td>\n",
              "      <td>15.0</td>\n",
              "    </tr>\n",
              "    <tr>\n",
              "      <th>price</th>\n",
              "      <td>2979.0</td>\n",
              "      <td>110.842229</td>\n",
              "      <td>99.265401</td>\n",
              "      <td>9.0</td>\n",
              "      <td>55.00</td>\n",
              "      <td>80.00</td>\n",
              "      <td>129.0</td>\n",
              "      <td>957.0</td>\n",
              "    </tr>\n",
              "    <tr>\n",
              "      <th>Clean_score</th>\n",
              "      <td>2236.0</td>\n",
              "      <td>4.705192</td>\n",
              "      <td>0.491975</td>\n",
              "      <td>0.0</td>\n",
              "      <td>4.61</td>\n",
              "      <td>4.86</td>\n",
              "      <td>5.0</td>\n",
              "      <td>5.0</td>\n",
              "    </tr>\n",
              "    <tr>\n",
              "      <th>availability_365</th>\n",
              "      <td>2998.0</td>\n",
              "      <td>136.330887</td>\n",
              "      <td>133.570639</td>\n",
              "      <td>0.0</td>\n",
              "      <td>0.00</td>\n",
              "      <td>90.00</td>\n",
              "      <td>274.5</td>\n",
              "      <td>365.0</td>\n",
              "    </tr>\n",
              "    <tr>\n",
              "      <th>days_as_host</th>\n",
              "      <td>2998.0</td>\n",
              "      <td>2208.944963</td>\n",
              "      <td>882.151322</td>\n",
              "      <td>47.0</td>\n",
              "      <td>1563.25</td>\n",
              "      <td>2392.00</td>\n",
              "      <td>2805.0</td>\n",
              "      <td>4663.0</td>\n",
              "    </tr>\n",
              "    <tr>\n",
              "      <th>review_scores_value</th>\n",
              "      <td>2235.0</td>\n",
              "      <td>4.612828</td>\n",
              "      <td>0.502717</td>\n",
              "      <td>0.0</td>\n",
              "      <td>4.50</td>\n",
              "      <td>4.73</td>\n",
              "      <td>4.9</td>\n",
              "      <td>5.0</td>\n",
              "    </tr>\n",
              "  </tbody>\n",
              "</table>\n",
              "</div>"
            ],
            "text/plain": [
              "                      count         mean         std   min      25%      50%  \\\n",
              "accommodates         2998.0     2.996998    1.489701   1.0     2.00     2.00   \n",
              "bathrooms            2760.0     1.243841    0.564407   1.0     1.00     1.00   \n",
              "beds                 2973.0     1.738648    1.149043   0.0     1.00     1.00   \n",
              "price                2979.0   110.842229   99.265401   9.0    55.00    80.00   \n",
              "Clean_score          2236.0     4.705192    0.491975   0.0     4.61     4.86   \n",
              "availability_365     2998.0   136.330887  133.570639   0.0     0.00    90.00   \n",
              "days_as_host         2998.0  2208.944963  882.151322  47.0  1563.25  2392.00   \n",
              "review_scores_value  2235.0     4.612828    0.502717   0.0     4.50     4.73   \n",
              "\n",
              "                        75%     max  \n",
              "accommodates            4.0    16.0  \n",
              "bathrooms               1.0     7.0  \n",
              "beds                    2.0    15.0  \n",
              "price                 129.0   957.0  \n",
              "Clean_score             5.0     5.0  \n",
              "availability_365      274.5   365.0  \n",
              "days_as_host         2805.0  4663.0  \n",
              "review_scores_value     4.9     5.0  "
            ]
          },
          "execution_count": 13,
          "metadata": {},
          "output_type": "execute_result"
        }
      ],
      "source": [
        "air2.describe().transpose()"
      ]
    },
    {
      "cell_type": "code",
      "execution_count": null,
      "metadata": {
        "id": "GENkTLjRzOtD"
      },
      "outputs": [],
      "source": [
        "# Imputing the null values\n",
        "air2[\"bathrooms\"]=air2[\"bathrooms\"].fillna(min(air2.bathrooms))\n",
        "air2[\"beds\"]=air2[\"beds\"].fillna(min(air2.beds))\n",
        "air2[\"price\"]=air[\"price\"].fillna(np.mean(air2[\"price\"]))\n",
        "air2[\"Clean_score\"]=air2[\"Clean_score\"].fillna(np.mean(air2['Clean_score']))\n",
        "air2['review_scores_value']=air2[\"review_scores_value\"].fillna(np.mean(air2['review_scores_value']))"
      ]
    },
    {
      "cell_type": "code",
      "execution_count": null,
      "metadata": {
        "id": "w35ofT8VzOtD",
        "outputId": "b0df62de-6dc7-493d-dc7e-fd05609493be"
      },
      "outputs": [
        {
          "data": {
            "text/plain": [
              "name                      0\n",
              "host_since                0\n",
              "host_identity_verified    0\n",
              "room_type                 0\n",
              "accommodates              0\n",
              "bathrooms                 0\n",
              "beds                      0\n",
              "price                     0\n",
              "city                      0\n",
              "Clean_score               0\n",
              "availability_365          0\n",
              "days_as_host              0\n",
              "review_scores_value       0\n",
              "dtype: int64"
            ]
          },
          "execution_count": 15,
          "metadata": {},
          "output_type": "execute_result"
        }
      ],
      "source": [
        "air2.isna().sum() # the Null values got imputed the dataset is now ready to analyzed."
      ]
    },
    {
      "cell_type": "code",
      "execution_count": null,
      "metadata": {
        "id": "8Gaxy3jjzOtD"
      },
      "outputs": [],
      "source": [
        "air2['bathrooms']=air2['bathrooms'].astype(int)\n",
        "air2['beds']=air2['beds'].astype(int)"
      ]
    },
    {
      "cell_type": "markdown",
      "metadata": {
        "id": "9bVn1xW4zOtE"
      },
      "source": [
        "## Exploratory Data Analytics"
      ]
    },
    {
      "cell_type": "code",
      "execution_count": null,
      "metadata": {
        "id": "Z_0wtum0zOtE",
        "outputId": "61c7a861-013b-442d-fb51-a72759aa62b3"
      },
      "outputs": [
        {
          "data": {
            "text/plain": [
              "1    2458\n",
              "2     444\n",
              "3      70\n",
              "4      18\n",
              "5       6\n",
              "7       1\n",
              "6       1\n",
              "Name: bathrooms, dtype: int64"
            ]
          },
          "execution_count": 17,
          "metadata": {},
          "output_type": "execute_result"
        }
      ],
      "source": [
        "air2['bathrooms'].value_counts()"
      ]
    },
    {
      "cell_type": "code",
      "execution_count": null,
      "metadata": {
        "id": "2aGJ5naOzOtE",
        "outputId": "bc2e166b-3123-4a5c-8a71-623bae07c14d"
      },
      "outputs": [
        {
          "data": {
            "text/plain": [
              "1     1408\n",
              "2      965\n",
              "3      276\n",
              "0      137\n",
              "4      133\n",
              "5       44\n",
              "6       19\n",
              "7        7\n",
              "9        3\n",
              "8        3\n",
              "15       1\n",
              "12       1\n",
              "10       1\n",
              "Name: beds, dtype: int64"
            ]
          },
          "execution_count": 18,
          "metadata": {},
          "output_type": "execute_result"
        }
      ],
      "source": [
        "air2['beds'].value_counts()"
      ]
    },
    {
      "cell_type": "code",
      "execution_count": null,
      "metadata": {
        "id": "sQok_IeozOtF",
        "outputId": "ae822ea7-b03c-4749-dd14-17e647438d51"
      },
      "outputs": [
        {
          "data": {
            "text/plain": [
              "2     1258\n",
              "4      800\n",
              "3      388\n",
              "1      247\n",
              "6      132\n",
              "5      115\n",
              "7       23\n",
              "8       17\n",
              "10       9\n",
              "9        4\n",
              "16       1\n",
              "12       1\n",
              "14       1\n",
              "15       1\n",
              "11       1\n",
              "Name: accommodates, dtype: int64"
            ]
          },
          "execution_count": 19,
          "metadata": {},
          "output_type": "execute_result"
        }
      ],
      "source": [
        "air2['accommodates'].value_counts()"
      ]
    },
    {
      "cell_type": "code",
      "execution_count": null,
      "metadata": {
        "id": "r5P8l98VzOtF",
        "outputId": "9653a44f-c135-4dbc-d99f-c25b8f44967e"
      },
      "outputs": [
        {
          "data": {
            "text/plain": [
              "Entire home/apt    2277\n",
              "Private room        669\n",
              "Shared room          41\n",
              "Hotel room           11\n",
              "Name: room_type, dtype: int64"
            ]
          },
          "execution_count": 20,
          "metadata": {},
          "output_type": "execute_result"
        }
      ],
      "source": [
        "air2['room_type'].value_counts()"
      ]
    },
    {
      "cell_type": "code",
      "execution_count": null,
      "metadata": {
        "id": "GDV8TJ9AzOtF",
        "outputId": "547e03f3-e4bc-4c6b-eec7-690aa06086ac"
      },
      "outputs": [
        {
          "data": {
            "text/plain": [
              "Text(0.5, 1.0, 'Histogram for Price')"
            ]
          },
          "execution_count": 21,
          "metadata": {},
          "output_type": "execute_result"
        },
        {
          "data": {
            "image/png": "[encoded data removed]",
            "text/plain": [
              "<Figure size 576x576 with 1 Axes>"
            ]
          },
          "metadata": {
            "needs_background": "light"
          },
          "output_type": "display_data"
        }
      ],
      "source": [
        "plt.figure(figsize=(8,8))\n",
        "sns.distplot(air2['price'],bins=80,color='RED')\n",
        "plt.xlabel(\"Price_distribution\")\n",
        "plt.ylabel(\"Count\")\n",
        "plt.title(\"Histogram for Price\")"
      ]
    },
    {
      "cell_type": "markdown",
      "metadata": {
        "id": "vr1bUyx_zOtF"
      },
      "source": [
        "Most number of room prices are in between 0 - 200."
      ]
    },
    {
      "cell_type": "code",
      "execution_count": null,
      "metadata": {
        "id": "jNqW6eEuzOtF",
        "outputId": "4f883fdf-d511-4d97-b144-a6a9f94bf590"
      },
      "outputs": [
        {
          "data": {
            "text/plain": [
              "Text(0.5, 0, 'Clean_score')"
            ]
          },
          "execution_count": 22,
          "metadata": {},
          "output_type": "execute_result"
        },
        {
          "data": {
            "image/png": "[encoded data removed]",
            "text/plain": [
              "<Figure size 576x576 with 1 Axes>"
            ]
          },
          "metadata": {
            "needs_background": "light"
          },
          "output_type": "display_data"
        }
      ],
      "source": [
        "plt.figure(figsize=(8,8))\n",
        "sns.distplot(air2['Clean_score'],color='Blue')\n",
        "plt.xlabel(\"Clean_score\")"
      ]
    },
    {
      "cell_type": "markdown",
      "metadata": {
        "id": "ds_PYkQUzOtG"
      },
      "source": [
        "The distribution of cleanliness score is left skewed says that mean it above the median."
      ]
    },
    {
      "cell_type": "code",
      "execution_count": null,
      "metadata": {
        "id": "nC5iplG-zOtG",
        "outputId": "77c2fada-5322-4bae-b67e-2651a9455d64"
      },
      "outputs": [
        {
          "data": {
            "text/plain": [
              "Text(0.5, 1.0, 'Countplot of Accommodation')"
            ]
          },
          "execution_count": 23,
          "metadata": {},
          "output_type": "execute_result"
        },
        {
          "data": {
            "image/png": "[encoded data removed]",
            "text/plain": [
              "<Figure size 576x576 with 1 Axes>"
            ]
          },
          "metadata": {
            "needs_background": "light"
          },
          "output_type": "display_data"
        }
      ],
      "source": [
        "plt.figure(figsize=(8,8))\n",
        "sns.countplot(air2['accommodates'],color='Blue')\n",
        "plt.xlabel(\"Maximum_accommodation\")\n",
        "plt.ylabel(\"Count\")\n",
        "plt.title(\"Countplot of Accommodation\")"
      ]
    },
    {
      "cell_type": "markdown",
      "metadata": {
        "id": "KbDJ3pf0zOtG"
      },
      "source": [
        "### More number of accommodations is for 2 persons."
      ]
    },
    {
      "cell_type": "code",
      "execution_count": null,
      "metadata": {
        "id": "8TC-wSMizOtG",
        "outputId": "fe8912f8-4c82-4c45-c0c9-1b9053984d07"
      },
      "outputs": [
        {
          "data": {
            "text/plain": [
              "<matplotlib.legend.Legend at 0x240adc5cb20>"
            ]
          },
          "execution_count": 24,
          "metadata": {},
          "output_type": "execute_result"
        },
        {
          "data": {
            "image/png": "[encoded data removed]",
            "text/plain": [
              "<Figure size 576x576 with 1 Axes>"
            ]
          },
          "metadata": {
            "needs_background": "light"
          },
          "output_type": "display_data"
        }
      ],
      "source": [
        "plt.figure(figsize=(8,8))\n",
        "sns.countplot(air2['beds'],hue=air2['room_type'])\n",
        "plt.title(\"Countplot of beds\")\n",
        "plt.legend(bbox_to_anchor=(0.75, 1.15), ncol=2)"
      ]
    },
    {
      "cell_type": "markdown",
      "metadata": {
        "id": "p6NrMhGlzOtG"
      },
      "source": [
        "### The home apartments bedroom seems to have a single bed."
      ]
    },
    {
      "cell_type": "code",
      "execution_count": null,
      "metadata": {
        "id": "9Z4AoBAuzOtG",
        "outputId": "dba096e0-845c-4595-95d9-4ac38c746903"
      },
      "outputs": [
        {
          "data": {
            "text/plain": [
              "<matplotlib.legend.Legend at 0x240adb324c0>"
            ]
          },
          "execution_count": 25,
          "metadata": {},
          "output_type": "execute_result"
        },
        {
          "data": {
            "image/png": "[encoded data removed]",
            "text/plain": [
              "<Figure size 576x576 with 1 Axes>"
            ]
          },
          "metadata": {
            "needs_background": "light"
          },
          "output_type": "display_data"
        }
      ],
      "source": [
        "plt.figure(figsize=(8,8))\n",
        "sns.countplot('bathrooms',hue='room_type',data=air2)\n",
        "plt.title(\"Countplot of bathrooms\")\n",
        "plt.legend(bbox_to_anchor=(0.75, 1.15), ncol=2)"
      ]
    },
    {
      "cell_type": "markdown",
      "metadata": {
        "id": "fX15OQ_4zOtH"
      },
      "source": [
        "### The home apartment room type is mostly having a single bathroom compared to private room type."
      ]
    },
    {
      "cell_type": "code",
      "execution_count": null,
      "metadata": {
        "id": "gwO1ZUWEzOtH",
        "outputId": "183d71d2-ac13-4f5a-80d0-327803eabe04"
      },
      "outputs": [
        {
          "data": {
            "text/plain": [
              "Text(0.5, 1.0, 'Countplot of bathrooms')"
            ]
          },
          "execution_count": 26,
          "metadata": {},
          "output_type": "execute_result"
        },
        {
          "data": {
            "image/png": "[encoded data removed]",
            "text/plain": [
              "<Figure size 576x576 with 1 Axes>"
            ]
          },
          "metadata": {
            "needs_background": "light"
          },
          "output_type": "display_data"
        }
      ],
      "source": [
        "plt.figure(figsize=(8,8))\n",
        "sns.countplot(air2['room_type'])\n",
        "plt.title(\"Countplot of bathrooms\")"
      ]
    },
    {
      "cell_type": "markdown",
      "metadata": {
        "id": "ZiCBQSD3zOtH"
      },
      "source": [
        "The count of home/apartment is more than other room types."
      ]
    },
    {
      "cell_type": "code",
      "execution_count": null,
      "metadata": {
        "id": "eroqgRtZzOtH",
        "outputId": "d97dc14a-2ab0-4c64-ad39-eca1f9362a90"
      },
      "outputs": [
        {
          "data": {
            "text/plain": [
              "<matplotlib.axes._subplots.AxesSubplot at 0x240af435a60>"
            ]
          },
          "execution_count": 27,
          "metadata": {},
          "output_type": "execute_result"
        },
        {
          "data": {
            "image/png": "[encoded data removed]",
            "text/plain": [
              "<Figure size 432x288 with 1 Axes>"
            ]
          },
          "metadata": {
            "needs_background": "light"
          },
          "output_type": "display_data"
        }
      ],
      "source": [
        "sns.boxplot(\"price\",data=air2)"
      ]
    },
    {
      "cell_type": "code",
      "execution_count": null,
      "metadata": {
        "id": "_q3MqAn8zOtH",
        "outputId": "4f94fcc8-4a64-4c0b-886e-8902d01e398b"
      },
      "outputs": [
        {
          "data": {
            "text/plain": [
              "<matplotlib.axes._subplots.AxesSubplot at 0x240af15ed60>"
            ]
          },
          "execution_count": 28,
          "metadata": {},
          "output_type": "execute_result"
        },
        {
          "data": {
            "image/png": "[encoded data removed]",
            "text/plain": [
              "<Figure size 432x288 with 1 Axes>"
            ]
          },
          "metadata": {
            "needs_background": "light"
          },
          "output_type": "display_data"
        }
      ],
      "source": [
        "sns.boxplot(\"availability_365\",data=air2) # availability for the nexr year is right skewed."
      ]
    },
    {
      "cell_type": "code",
      "execution_count": null,
      "metadata": {
        "id": "PdfVnixhzOtH",
        "outputId": "f919b882-b45a-4fdf-e634-f706b1e4bdbc"
      },
      "outputs": [
        {
          "data": {
            "text/plain": [
              "<matplotlib.axes._subplots.AxesSubplot at 0x240af1bb2b0>"
            ]
          },
          "execution_count": 29,
          "metadata": {},
          "output_type": "execute_result"
        },
        {
          "data": {
            "image/png": "[encoded data removed]",
            "text/plain": [
              "<Figure size 432x288 with 1 Axes>"
            ]
          },
          "metadata": {
            "needs_background": "light"
          },
          "output_type": "display_data"
        }
      ],
      "source": [
        "sns.boxplot(\"days_as_host\",data=air2) #The days spent by the host in the platform is left skewed"
      ]
    },
    {
      "cell_type": "code",
      "execution_count": null,
      "metadata": {
        "id": "SZaNn9MBzOtH",
        "outputId": "528eddd5-da4f-4268-b9c6-4e74f157587e"
      },
      "outputs": [
        {
          "data": {
            "text/plain": [
              "host_identity_verified\n",
              "f    129.226708\n",
              "t    138.274427\n",
              "Name: availability_365, dtype: float64"
            ]
          },
          "execution_count": 30,
          "metadata": {},
          "output_type": "execute_result"
        }
      ],
      "source": [
        "air2.groupby(['host_identity_verified']).mean()['availability_365']"
      ]
    },
    {
      "cell_type": "markdown",
      "metadata": {
        "id": "MAA3iCOzzOtH"
      },
      "source": [
        "### This shows that the truly verfied profiles seem to available more days in the coming year rather than non- verfied Profiles"
      ]
    },
    {
      "cell_type": "code",
      "execution_count": null,
      "metadata": {
        "colab": {
          "base_uri": "https://localhost:8080/",
          "height": 166
        },
        "id": "HSP_QFdmzOtI",
        "outputId": "375629b4-6d6c-448b-cddf-651cc31260b8"
      },
      "outputs": [
        {
          "output_type": "error",
          "ename": "NameError",
          "evalue": "ignored",
          "traceback": [
            "\u001b[0;31m---------------------------------------------------------------------------\u001b[0m",
            "\u001b[0;31mNameError\u001b[0m                                 Traceback (most recent call last)",
            "\u001b[0;32m<ipython-input-1-6b4f51a1c4be>\u001b[0m in \u001b[0;36m<module>\u001b[0;34m()\u001b[0m\n\u001b[0;32m----> 1\u001b[0;31m \u001b[0mair2\u001b[0m\u001b[0;34m.\u001b[0m\u001b[0mgroupby\u001b[0m\u001b[0;34m(\u001b[0m\u001b[0;34m[\u001b[0m\u001b[0;34m'room_type'\u001b[0m\u001b[0;34m]\u001b[0m\u001b[0;34m)\u001b[0m\u001b[0;34m.\u001b[0m\u001b[0mmean\u001b[0m\u001b[0;34m(\u001b[0m\u001b[0;34m)\u001b[0m\u001b[0;34m[\u001b[0m\u001b[0;34m'price'\u001b[0m\u001b[0;34m]\u001b[0m\u001b[0;34m\u001b[0m\u001b[0;34m\u001b[0m\u001b[0m\n\u001b[0m",
            "\u001b[0;31mNameError\u001b[0m: name 'air2' is not defined"
          ]
        }
      ],
      "source": [
        "air2.groupby(['room_type']).mean()['price']"
      ]
    },
    {
      "cell_type": "markdown",
      "metadata": {
        "id": "pahxUqr8zOtI"
      },
      "source": [
        "### The hotel room seems to be the costliest compared to other rooms in price and the shared room seems to be the lowest in price."
      ]
    },
    {
      "cell_type": "code",
      "execution_count": null,
      "metadata": {
        "id": "xQNAS64azOtI",
        "outputId": "8608acc0-aec1-46d5-ce97-017bad8921b5"
      },
      "outputs": [
        {
          "data": {
            "text/plain": [
              "host_identity_verified\n",
              "f    1980.368012\n",
              "t    2271.478335\n",
              "Name: days_as_host, dtype: float64"
            ]
          },
          "execution_count": 32,
          "metadata": {},
          "output_type": "execute_result"
        }
      ],
      "source": [
        "air2.groupby(['host_identity_verified']).mean()['days_as_host']"
      ]
    },
    {
      "cell_type": "code",
      "execution_count": null,
      "metadata": {
        "id": "UkvKOwhvzOtI",
        "outputId": "e2a3c40f-6b40-45b5-8d9c-2b3120f277fa"
      },
      "outputs": [
        {
          "data": {
            "text/plain": [
              "<matplotlib.axes._subplots.AxesSubplot at 0x240af211070>"
            ]
          },
          "execution_count": 33,
          "metadata": {},
          "output_type": "execute_result"
        },
        {
          "data": {
            "image/png": "[encoded data removed]",
            "text/plain": [
              "<Figure size 576x576 with 2 Axes>"
            ]
          },
          "metadata": {
            "needs_background": "light"
          },
          "output_type": "display_data"
        }
      ],
      "source": [
        "plt.figure(figsize=(8,8))\n",
        "sns.heatmap(air2.corr(),annot=True)"
      ]
    },
    {
      "cell_type": "code",
      "execution_count": null,
      "metadata": {
        "id": "2EWEeNi-zOtI"
      },
      "outputs": [],
      "source": [
        "# Import label encoder\n",
        "from sklearn.preprocessing import LabelEncoder\n",
        "label_encoder = LabelEncoder()\n",
        "air2['room_type']= label_encoder.fit_transform(air2['room_type'])\n",
        "air2['host_identity_verified']=label_encoder.fit_transform(air2['host_identity_verified'])"
      ]
    },
    {
      "cell_type": "code",
      "execution_count": null,
      "metadata": {
        "id": "Tv7H3RIVzOtI",
        "outputId": "593ffd3d-cb1f-4eaf-df67-5e9cbc467641"
      },
      "outputs": [
        {
          "data": {
            "text/html": [
              "<div>\n",
              "<style scoped>\n",
              "    .dataframe tbody tr th:only-of-type {\n",
              "        vertical-align: middle;\n",
              "    }\n",
              "\n",
              "    .dataframe tbody tr th {\n",
              "        vertical-align: top;\n",
              "    }\n",
              "\n",
              "    .dataframe thead th {\n",
              "        text-align: right;\n",
              "    }\n",
              "</style>\n",
              "<table border=\"1\" class=\"dataframe\">\n",
              "  <thead>\n",
              "    <tr style=\"text-align: right;\">\n",
              "      <th></th>\n",
              "      <th>host_identity_verified</th>\n",
              "      <th>room_type</th>\n",
              "      <th>accommodates</th>\n",
              "      <th>bathrooms</th>\n",
              "      <th>beds</th>\n",
              "      <th>Clean_score</th>\n",
              "      <th>availability_365</th>\n",
              "      <th>days_as_host</th>\n",
              "      <th>review_scores_value</th>\n",
              "    </tr>\n",
              "  </thead>\n",
              "  <tbody>\n",
              "    <tr>\n",
              "      <th>0</th>\n",
              "      <td>1</td>\n",
              "      <td>0</td>\n",
              "      <td>3</td>\n",
              "      <td>1</td>\n",
              "      <td>2</td>\n",
              "      <td>4.705192</td>\n",
              "      <td>111</td>\n",
              "      <td>2237</td>\n",
              "      <td>4.612828</td>\n",
              "    </tr>\n",
              "    <tr>\n",
              "      <th>1</th>\n",
              "      <td>1</td>\n",
              "      <td>0</td>\n",
              "      <td>4</td>\n",
              "      <td>1</td>\n",
              "      <td>2</td>\n",
              "      <td>4.705192</td>\n",
              "      <td>365</td>\n",
              "      <td>682</td>\n",
              "      <td>4.612828</td>\n",
              "    </tr>\n",
              "    <tr>\n",
              "      <th>2</th>\n",
              "      <td>1</td>\n",
              "      <td>0</td>\n",
              "      <td>5</td>\n",
              "      <td>2</td>\n",
              "      <td>3</td>\n",
              "      <td>4.980000</td>\n",
              "      <td>291</td>\n",
              "      <td>3607</td>\n",
              "      <td>4.630000</td>\n",
              "    </tr>\n",
              "    <tr>\n",
              "      <th>3</th>\n",
              "      <td>1</td>\n",
              "      <td>0</td>\n",
              "      <td>2</td>\n",
              "      <td>1</td>\n",
              "      <td>1</td>\n",
              "      <td>4.890000</td>\n",
              "      <td>48</td>\n",
              "      <td>1113</td>\n",
              "      <td>4.820000</td>\n",
              "    </tr>\n",
              "    <tr>\n",
              "      <th>4</th>\n",
              "      <td>1</td>\n",
              "      <td>0</td>\n",
              "      <td>5</td>\n",
              "      <td>2</td>\n",
              "      <td>3</td>\n",
              "      <td>5.000000</td>\n",
              "      <td>0</td>\n",
              "      <td>3174</td>\n",
              "      <td>5.000000</td>\n",
              "    </tr>\n",
              "    <tr>\n",
              "      <th>...</th>\n",
              "      <td>...</td>\n",
              "      <td>...</td>\n",
              "      <td>...</td>\n",
              "      <td>...</td>\n",
              "      <td>...</td>\n",
              "      <td>...</td>\n",
              "      <td>...</td>\n",
              "      <td>...</td>\n",
              "      <td>...</td>\n",
              "    </tr>\n",
              "    <tr>\n",
              "      <th>2995</th>\n",
              "      <td>0</td>\n",
              "      <td>0</td>\n",
              "      <td>3</td>\n",
              "      <td>1</td>\n",
              "      <td>3</td>\n",
              "      <td>5.000000</td>\n",
              "      <td>291</td>\n",
              "      <td>978</td>\n",
              "      <td>4.880000</td>\n",
              "    </tr>\n",
              "    <tr>\n",
              "      <th>2996</th>\n",
              "      <td>1</td>\n",
              "      <td>0</td>\n",
              "      <td>4</td>\n",
              "      <td>1</td>\n",
              "      <td>2</td>\n",
              "      <td>4.860000</td>\n",
              "      <td>96</td>\n",
              "      <td>1727</td>\n",
              "      <td>4.860000</td>\n",
              "    </tr>\n",
              "    <tr>\n",
              "      <th>2997</th>\n",
              "      <td>1</td>\n",
              "      <td>0</td>\n",
              "      <td>4</td>\n",
              "      <td>1</td>\n",
              "      <td>2</td>\n",
              "      <td>3.000000</td>\n",
              "      <td>260</td>\n",
              "      <td>2121</td>\n",
              "      <td>3.500000</td>\n",
              "    </tr>\n",
              "    <tr>\n",
              "      <th>2998</th>\n",
              "      <td>1</td>\n",
              "      <td>0</td>\n",
              "      <td>4</td>\n",
              "      <td>2</td>\n",
              "      <td>4</td>\n",
              "      <td>4.705192</td>\n",
              "      <td>281</td>\n",
              "      <td>2809</td>\n",
              "      <td>4.612828</td>\n",
              "    </tr>\n",
              "    <tr>\n",
              "      <th>2999</th>\n",
              "      <td>1</td>\n",
              "      <td>0</td>\n",
              "      <td>2</td>\n",
              "      <td>1</td>\n",
              "      <td>1</td>\n",
              "      <td>4.705192</td>\n",
              "      <td>22</td>\n",
              "      <td>2058</td>\n",
              "      <td>4.612828</td>\n",
              "    </tr>\n",
              "  </tbody>\n",
              "</table>\n",
              "<p>2998 rows × 9 columns</p>\n",
              "</div>"
            ],
            "text/plain": [
              "      host_identity_verified  room_type  accommodates  bathrooms  beds  \\\n",
              "0                          1          0             3          1     2   \n",
              "1                          1          0             4          1     2   \n",
              "2                          1          0             5          2     3   \n",
              "3                          1          0             2          1     1   \n",
              "4                          1          0             5          2     3   \n",
              "...                      ...        ...           ...        ...   ...   \n",
              "2995                       0          0             3          1     3   \n",
              "2996                       1          0             4          1     2   \n",
              "2997                       1          0             4          1     2   \n",
              "2998                       1          0             4          2     4   \n",
              "2999                       1          0             2          1     1   \n",
              "\n",
              "      Clean_score  availability_365  days_as_host  review_scores_value  \n",
              "0        4.705192               111          2237             4.612828  \n",
              "1        4.705192               365           682             4.612828  \n",
              "2        4.980000               291          3607             4.630000  \n",
              "3        4.890000                48          1113             4.820000  \n",
              "4        5.000000                 0          3174             5.000000  \n",
              "...           ...               ...           ...                  ...  \n",
              "2995     5.000000               291           978             4.880000  \n",
              "2996     4.860000                96          1727             4.860000  \n",
              "2997     3.000000               260          2121             3.500000  \n",
              "2998     4.705192               281          2809             4.612828  \n",
              "2999     4.705192                22          2058             4.612828  \n",
              "\n",
              "[2998 rows x 9 columns]"
            ]
          },
          "execution_count": 38,
          "metadata": {},
          "output_type": "execute_result"
        }
      ],
      "source": [
        "X=air2.drop(['price','name','host_since','city'],axis=1)\n",
        "y=air2['price']\n",
        "X"
      ]
    },
    {
      "cell_type": "code",
      "execution_count": null,
      "metadata": {
        "id": "uSQ3D3KpzOtI",
        "outputId": "4640a860-403b-467e-ff74-e43f81e3f6d8"
      },
      "outputs": [
        {
          "data": {
            "text/html": [
              "<div>\n",
              "<style scoped>\n",
              "    .dataframe tbody tr th:only-of-type {\n",
              "        vertical-align: middle;\n",
              "    }\n",
              "\n",
              "    .dataframe tbody tr th {\n",
              "        vertical-align: top;\n",
              "    }\n",
              "\n",
              "    .dataframe thead th {\n",
              "        text-align: right;\n",
              "    }\n",
              "</style>\n",
              "<table border=\"1\" class=\"dataframe\">\n",
              "  <thead>\n",
              "    <tr style=\"text-align: right;\">\n",
              "      <th></th>\n",
              "      <th>VIF Factor</th>\n",
              "      <th>features</th>\n",
              "    </tr>\n",
              "  </thead>\n",
              "  <tbody>\n",
              "    <tr>\n",
              "      <th>0</th>\n",
              "      <td>4.232605</td>\n",
              "      <td>host_identity_verified</td>\n",
              "    </tr>\n",
              "    <tr>\n",
              "      <th>1</th>\n",
              "      <td>1.405048</td>\n",
              "      <td>room_type</td>\n",
              "    </tr>\n",
              "    <tr>\n",
              "      <th>2</th>\n",
              "      <td>12.273074</td>\n",
              "      <td>accommodates</td>\n",
              "    </tr>\n",
              "    <tr>\n",
              "      <th>3</th>\n",
              "      <td>10.952143</td>\n",
              "      <td>bathrooms</td>\n",
              "    </tr>\n",
              "    <tr>\n",
              "      <th>4</th>\n",
              "      <td>6.184242</td>\n",
              "      <td>beds</td>\n",
              "    </tr>\n",
              "    <tr>\n",
              "      <th>5</th>\n",
              "      <td>1.975153</td>\n",
              "      <td>availability_365</td>\n",
              "    </tr>\n",
              "    <tr>\n",
              "      <th>6</th>\n",
              "      <td>5.375396</td>\n",
              "      <td>days_as_host</td>\n",
              "    </tr>\n",
              "  </tbody>\n",
              "</table>\n",
              "</div>"
            ],
            "text/plain": [
              "   VIF Factor                features\n",
              "0    4.232605  host_identity_verified\n",
              "1    1.405048               room_type\n",
              "2   12.273074            accommodates\n",
              "3   10.952143               bathrooms\n",
              "4    6.184242                    beds\n",
              "5    1.975153        availability_365\n",
              "6    5.375396            days_as_host"
            ]
          },
          "execution_count": 61,
          "metadata": {},
          "output_type": "execute_result"
        }
      ],
      "source": [
        "vif = pd.DataFrame()\n",
        "vif[\"VIF Factor\"] = [variance_inflation_factor(X.values, i) for i in range(X.shape[1])]\n",
        "vif[\"features\"] = X.columns\n",
        "vif"
      ]
    },
    {
      "cell_type": "code",
      "execution_count": null,
      "metadata": {
        "id": "4ZVj0aDYzOtI"
      },
      "outputs": [],
      "source": [
        "X=air2.drop(['price','name','host_since','city','review_scores_value','Clean_score'],axis=1) #the columns which have multicolinearity is dropped."
      ]
    },
    {
      "cell_type": "code",
      "execution_count": null,
      "metadata": {
        "id": "NT7DLjTEzOtI",
        "outputId": "71da1dc4-b077-4861-b419-f20500b905d1"
      },
      "outputs": [
        {
          "name": "stdout",
          "output_type": "stream",
          "text": [
            "(2248, 7)\n",
            "(750, 7)\n"
          ]
        }
      ],
      "source": [
        "# Splitting the dataset into the Training set and Test set\n",
        "from sklearn.model_selection import train_test_split\n",
        "X_train, X_test, y_train, y_test = train_test_split(X, y, test_size = 0.25, random_state = 0)\n",
        "print(X_train.shape)\n",
        "print(X_test.shape)\n"
      ]
    },
    {
      "cell_type": "code",
      "execution_count": null,
      "metadata": {
        "id": "qkJ33j7rzOtI",
        "outputId": "399e8c4f-28e9-405f-9375-c19e3b05eca0"
      },
      "outputs": [
        {
          "name": "stdout",
          "output_type": "stream",
          "text": [
            "r2 score is: 0.1734340371890135\n",
            "mse:  8559.15494592484\n"
          ]
        }
      ],
      "source": [
        "from sklearn.linear_model import LinearRegression\n",
        "regressor = LinearRegression()\n",
        "regressor.fit(X_train,y_train)\n",
        "predicted=regressor.predict(X_test)\n",
        "#evaluation\n",
        "score=r2_score(y_test,predicted)\n",
        "print('r2 score is:',score)\n",
        "mse=mean_squared_error(y_test,predicted)\n",
        "print(\"mse: \",mse)"
      ]
    },
    {
      "cell_type": "code",
      "execution_count": null,
      "metadata": {
        "id": "1wJR0rjUzOtJ",
        "outputId": "687a6772-3cd5-4718-fc10-b358611d6d0c"
      },
      "outputs": [
        {
          "name": "stdout",
          "output_type": "stream",
          "text": [
            "mse:  0.16912057198597297\n",
            "mse:  8603.821214181427\n"
          ]
        }
      ],
      "source": [
        "from sklearn.linear_model import Lasso\n",
        "lasso = Lasso()\n",
        "lasso.fit(X_train,y_train)\n",
        "y_pred=lasso.predict(X_test)\n",
        "r2=r2_score(y_test,y_pred)\n",
        "print(\"mse: \",r2)\n",
        "mse=mean_squared_error(y_test,y_pred)\n",
        "print(\"mse: \",mse)"
      ]
    },
    {
      "cell_type": "code",
      "execution_count": null,
      "metadata": {
        "id": "FfWh8AH9zOtJ",
        "outputId": "995fbf26-a20e-48b5-f331-340f20bc8d22"
      },
      "outputs": [
        {
          "name": "stdout",
          "output_type": "stream",
          "text": [
            "mse:  0.173390307472718\n",
            "mse:  8559.607770544235\n"
          ]
        }
      ],
      "source": [
        "from sklearn.linear_model import Ridge\n",
        "ridge = Ridge()\n",
        "ridge.fit(X_train,y_train)\n",
        "y_pred=ridge.predict(X_test)\n",
        "r2=r2_score(y_test,y_pred)\n",
        "print(\"mse: \",r2)\n",
        "mse=mean_squared_error(y_test,y_pred)\n",
        "print(\"mse: \",mse)"
      ]
    },
    {
      "cell_type": "code",
      "execution_count": null,
      "metadata": {
        "id": "rJuLajSEzOtJ"
      },
      "outputs": [],
      "source": []
    }
  ],
  "metadata": {
    "kernelspec": {
      "display_name": "Python 3",
      "language": "python",
      "name": "python3"
    },
    "language_info": {
      "codemirror_mode": {
        "name": "ipython",
        "version": 3
      },
      "file_extension": ".py",
      "mimetype": "text/x-python",
      "name": "python",
      "nbconvert_exporter": "python",
      "pygments_lexer": "ipython3",
      "version": "3.8.3"
    },
    "colab": {
      "provenance": []
    }
  },
  "nbformat": 4,
  "nbformat_minor": 0
}